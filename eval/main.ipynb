{
 "cells": [
  {
   "cell_type": "code",
   "execution_count": null,
   "metadata": {},
   "outputs": [],
   "source": [
    "%cd \"/root/music/compound-word-transformer\"\n",
    "\n",
    "from metrics import calc_metrics\n",
    "\n",
    "path_root = \"data\"\n",
    "path_train = \"data/train/1\"\n",
    "epoch_range = range(20, 100 + 1, 20)\n",
    "\n",
    "# Run this cell once to generate metrics json file\n",
    "# There is no need to run it for mutiple times\n",
    "\n",
    "# calc_metrics(epochs=epoch_range, num_samples=100, path_root=path_root)"
   ]
  },
  {
   "cell_type": "code",
   "execution_count": null,
   "metadata": {},
   "outputs": [],
   "source": [
    "from table import get_data, get_metrics_content\n",
    "\n",
    "content = get_metrics_content(path_root)\n",
    "epochs, data_uncond, data_cond = get_data(content)"
   ]
  },
  {
   "cell_type": "code",
   "execution_count": null,
   "metadata": {},
   "outputs": [],
   "source": [
    "from table import dataframe_metrics\n",
    "\n",
    "df_uncond = dataframe_metrics(data_uncond, epochs)\n",
    "df_uncond.style.set_caption(\"Unconditional generation\")"
   ]
  },
  {
   "cell_type": "code",
   "execution_count": null,
   "metadata": {},
   "outputs": [],
   "source": [
    "from table import dataframe_metrics\n",
    "\n",
    "df_cond = dataframe_metrics(data_cond, epochs)\n",
    "df_cond.style.set_caption(\"Conditional generation (from 4 bars)\")"
   ]
  },
  {
   "cell_type": "code",
   "execution_count": null,
   "metadata": {},
   "outputs": [],
   "source": [
    "from table import figure_loss\n",
    "\n",
    "figure_loss(path_train)"
   ]
  },
  {
   "cell_type": "code",
   "execution_count": null,
   "metadata": {},
   "outputs": [],
   "source": [
    "from table import figure_overlap\n",
    "\n",
    "figure_overlap(content, epochs)"
   ]
  }
 ],
 "metadata": {
  "interpreter": {
   "hash": "34d985e0f2760df3535326584227c6d0eaf595fdbc11b6bc93b096c39a28e826"
  },
  "kernelspec": {
   "display_name": "Python 3.8.5 64-bit ('pl_music': conda)",
   "language": "python",
   "name": "python3"
  },
  "language_info": {
   "codemirror_mode": {
    "name": "ipython",
    "version": 3
   },
   "file_extension": ".py",
   "mimetype": "text/x-python",
   "name": "python",
   "nbconvert_exporter": "python",
   "pygments_lexer": "ipython3",
   "version": "3.8.5"
  },
  "orig_nbformat": 4
 },
 "nbformat": 4,
 "nbformat_minor": 2
}
